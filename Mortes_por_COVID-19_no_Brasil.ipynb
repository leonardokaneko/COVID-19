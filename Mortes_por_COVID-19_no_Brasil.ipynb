{
 "cells": [
  {
   "cell_type": "markdown",
   "metadata": {},
   "source": [
    "# Estudo dinâmico das mortes por COVID no Brasil"
   ]
  },
  {
   "cell_type": "markdown",
   "metadata": {},
   "source": [
    "## Preparativos iniciais"
   ]
  },
  {
   "cell_type": "markdown",
   "metadata": {},
   "source": [
    "### Importando as bibliotecas necessárias"
   ]
  },
  {
   "cell_type": "code",
   "execution_count": 1,
   "metadata": {},
   "outputs": [],
   "source": [
    "import pandas as pd\n",
    "from urllib.request import urlretrieve\n",
    "import matplotlib.pyplot as plt"
   ]
  },
  {
   "cell_type": "markdown",
   "metadata": {},
   "source": [
    "### Buscando a base de dados mais atualizada"
   ]
  },
  {
   "cell_type": "code",
   "execution_count": 2,
   "metadata": {},
   "outputs": [],
   "source": [
    "url = 'https://raw.githubusercontent.com/CSSEGISandData/COVID-19/master/csse_covid_19_data/csse_covid_19_time_series/time_series_covid19_deaths_global.csv'\n",
    "# urlretrieve(url, 'Datasets/covid19_deaths.csv')\n"
   ]
  },
  {
   "cell_type": "code",
   "execution_count": 3,
   "metadata": {},
   "outputs": [],
   "source": [
    "df_covid = pd.read_csv(url)"
   ]
  },
  {
   "cell_type": "markdown",
   "metadata": {},
   "source": [
    "### Fazendo uma análise preliminar da base"
   ]
  },
  {
   "cell_type": "code",
   "execution_count": 4,
   "metadata": {},
   "outputs": [
    {
     "data": {
      "text/plain": [
       "Index(['Province/State', 'Country/Region', 'Lat', 'Long', '1/22/20', '1/23/20',\n",
       "       '1/24/20', '1/25/20', '1/26/20', '1/27/20',\n",
       "       ...\n",
       "       '9/11/20', '9/12/20', '9/13/20', '9/14/20', '9/15/20', '9/16/20',\n",
       "       '9/17/20', '9/18/20', '9/19/20', '9/20/20'],\n",
       "      dtype='object', length=247)"
      ]
     },
     "execution_count": 4,
     "metadata": {},
     "output_type": "execute_result"
    }
   ],
   "source": [
    "df_covid.columns"
   ]
  },
  {
   "cell_type": "code",
   "execution_count": 5,
   "metadata": {},
   "outputs": [
    {
     "data": {
      "text/html": [
       "<div>\n",
       "<style scoped>\n",
       "    .dataframe tbody tr th:only-of-type {\n",
       "        vertical-align: middle;\n",
       "    }\n",
       "\n",
       "    .dataframe tbody tr th {\n",
       "        vertical-align: top;\n",
       "    }\n",
       "\n",
       "    .dataframe thead th {\n",
       "        text-align: right;\n",
       "    }\n",
       "</style>\n",
       "<table border=\"1\" class=\"dataframe\">\n",
       "  <thead>\n",
       "    <tr style=\"text-align: right;\">\n",
       "      <th></th>\n",
       "      <th>Province/State</th>\n",
       "      <th>Country/Region</th>\n",
       "      <th>Lat</th>\n",
       "      <th>Long</th>\n",
       "      <th>1/22/20</th>\n",
       "      <th>1/23/20</th>\n",
       "      <th>1/24/20</th>\n",
       "      <th>1/25/20</th>\n",
       "      <th>1/26/20</th>\n",
       "      <th>1/27/20</th>\n",
       "      <th>...</th>\n",
       "      <th>9/11/20</th>\n",
       "      <th>9/12/20</th>\n",
       "      <th>9/13/20</th>\n",
       "      <th>9/14/20</th>\n",
       "      <th>9/15/20</th>\n",
       "      <th>9/16/20</th>\n",
       "      <th>9/17/20</th>\n",
       "      <th>9/18/20</th>\n",
       "      <th>9/19/20</th>\n",
       "      <th>9/20/20</th>\n",
       "    </tr>\n",
       "  </thead>\n",
       "  <tbody>\n",
       "    <tr>\n",
       "      <th>0</th>\n",
       "      <td>NaN</td>\n",
       "      <td>Afghanistan</td>\n",
       "      <td>33.93911</td>\n",
       "      <td>67.709953</td>\n",
       "      <td>0</td>\n",
       "      <td>0</td>\n",
       "      <td>0</td>\n",
       "      <td>0</td>\n",
       "      <td>0</td>\n",
       "      <td>0</td>\n",
       "      <td>...</td>\n",
       "      <td>1420</td>\n",
       "      <td>1420</td>\n",
       "      <td>1420</td>\n",
       "      <td>1425</td>\n",
       "      <td>1426</td>\n",
       "      <td>1436</td>\n",
       "      <td>1436</td>\n",
       "      <td>1437</td>\n",
       "      <td>1437</td>\n",
       "      <td>1441</td>\n",
       "    </tr>\n",
       "    <tr>\n",
       "      <th>1</th>\n",
       "      <td>NaN</td>\n",
       "      <td>Albania</td>\n",
       "      <td>41.15330</td>\n",
       "      <td>20.168300</td>\n",
       "      <td>0</td>\n",
       "      <td>0</td>\n",
       "      <td>0</td>\n",
       "      <td>0</td>\n",
       "      <td>0</td>\n",
       "      <td>0</td>\n",
       "      <td>...</td>\n",
       "      <td>327</td>\n",
       "      <td>330</td>\n",
       "      <td>334</td>\n",
       "      <td>338</td>\n",
       "      <td>340</td>\n",
       "      <td>343</td>\n",
       "      <td>347</td>\n",
       "      <td>353</td>\n",
       "      <td>358</td>\n",
       "      <td>362</td>\n",
       "    </tr>\n",
       "    <tr>\n",
       "      <th>2</th>\n",
       "      <td>NaN</td>\n",
       "      <td>Algeria</td>\n",
       "      <td>28.03390</td>\n",
       "      <td>1.659600</td>\n",
       "      <td>0</td>\n",
       "      <td>0</td>\n",
       "      <td>0</td>\n",
       "      <td>0</td>\n",
       "      <td>0</td>\n",
       "      <td>0</td>\n",
       "      <td>...</td>\n",
       "      <td>1599</td>\n",
       "      <td>1605</td>\n",
       "      <td>1612</td>\n",
       "      <td>1620</td>\n",
       "      <td>1632</td>\n",
       "      <td>1645</td>\n",
       "      <td>1654</td>\n",
       "      <td>1659</td>\n",
       "      <td>1665</td>\n",
       "      <td>1672</td>\n",
       "    </tr>\n",
       "    <tr>\n",
       "      <th>3</th>\n",
       "      <td>NaN</td>\n",
       "      <td>Andorra</td>\n",
       "      <td>42.50630</td>\n",
       "      <td>1.521800</td>\n",
       "      <td>0</td>\n",
       "      <td>0</td>\n",
       "      <td>0</td>\n",
       "      <td>0</td>\n",
       "      <td>0</td>\n",
       "      <td>0</td>\n",
       "      <td>...</td>\n",
       "      <td>53</td>\n",
       "      <td>53</td>\n",
       "      <td>53</td>\n",
       "      <td>53</td>\n",
       "      <td>53</td>\n",
       "      <td>53</td>\n",
       "      <td>53</td>\n",
       "      <td>53</td>\n",
       "      <td>53</td>\n",
       "      <td>53</td>\n",
       "    </tr>\n",
       "    <tr>\n",
       "      <th>4</th>\n",
       "      <td>NaN</td>\n",
       "      <td>Angola</td>\n",
       "      <td>-11.20270</td>\n",
       "      <td>17.873900</td>\n",
       "      <td>0</td>\n",
       "      <td>0</td>\n",
       "      <td>0</td>\n",
       "      <td>0</td>\n",
       "      <td>0</td>\n",
       "      <td>0</td>\n",
       "      <td>...</td>\n",
       "      <td>131</td>\n",
       "      <td>132</td>\n",
       "      <td>134</td>\n",
       "      <td>136</td>\n",
       "      <td>139</td>\n",
       "      <td>143</td>\n",
       "      <td>144</td>\n",
       "      <td>147</td>\n",
       "      <td>147</td>\n",
       "      <td>152</td>\n",
       "    </tr>\n",
       "  </tbody>\n",
       "</table>\n",
       "<p>5 rows × 247 columns</p>\n",
       "</div>"
      ],
      "text/plain": [
       "  Province/State Country/Region       Lat       Long  1/22/20  1/23/20  \\\n",
       "0            NaN    Afghanistan  33.93911  67.709953        0        0   \n",
       "1            NaN        Albania  41.15330  20.168300        0        0   \n",
       "2            NaN        Algeria  28.03390   1.659600        0        0   \n",
       "3            NaN        Andorra  42.50630   1.521800        0        0   \n",
       "4            NaN         Angola -11.20270  17.873900        0        0   \n",
       "\n",
       "   1/24/20  1/25/20  1/26/20  1/27/20  ...  9/11/20  9/12/20  9/13/20  \\\n",
       "0        0        0        0        0  ...     1420     1420     1420   \n",
       "1        0        0        0        0  ...      327      330      334   \n",
       "2        0        0        0        0  ...     1599     1605     1612   \n",
       "3        0        0        0        0  ...       53       53       53   \n",
       "4        0        0        0        0  ...      131      132      134   \n",
       "\n",
       "   9/14/20  9/15/20  9/16/20  9/17/20  9/18/20  9/19/20  9/20/20  \n",
       "0     1425     1426     1436     1436     1437     1437     1441  \n",
       "1      338      340      343      347      353      358      362  \n",
       "2     1620     1632     1645     1654     1659     1665     1672  \n",
       "3       53       53       53       53       53       53       53  \n",
       "4      136      139      143      144      147      147      152  \n",
       "\n",
       "[5 rows x 247 columns]"
      ]
     },
     "execution_count": 5,
     "metadata": {},
     "output_type": "execute_result"
    }
   ],
   "source": [
    "df_covid.head()"
   ]
  },
  {
   "cell_type": "code",
   "execution_count": 6,
   "metadata": {},
   "outputs": [
    {
     "data": {
      "text/html": [
       "<div>\n",
       "<style scoped>\n",
       "    .dataframe tbody tr th:only-of-type {\n",
       "        vertical-align: middle;\n",
       "    }\n",
       "\n",
       "    .dataframe tbody tr th {\n",
       "        vertical-align: top;\n",
       "    }\n",
       "\n",
       "    .dataframe thead th {\n",
       "        text-align: right;\n",
       "    }\n",
       "</style>\n",
       "<table border=\"1\" class=\"dataframe\">\n",
       "  <thead>\n",
       "    <tr style=\"text-align: right;\">\n",
       "      <th></th>\n",
       "      <th>Lat</th>\n",
       "      <th>Long</th>\n",
       "      <th>1/22/20</th>\n",
       "      <th>1/23/20</th>\n",
       "      <th>1/24/20</th>\n",
       "      <th>1/25/20</th>\n",
       "      <th>1/26/20</th>\n",
       "      <th>1/27/20</th>\n",
       "      <th>1/28/20</th>\n",
       "      <th>1/29/20</th>\n",
       "      <th>...</th>\n",
       "      <th>9/11/20</th>\n",
       "      <th>9/12/20</th>\n",
       "      <th>9/13/20</th>\n",
       "      <th>9/14/20</th>\n",
       "      <th>9/15/20</th>\n",
       "      <th>9/16/20</th>\n",
       "      <th>9/17/20</th>\n",
       "      <th>9/18/20</th>\n",
       "      <th>9/19/20</th>\n",
       "      <th>9/20/20</th>\n",
       "    </tr>\n",
       "  </thead>\n",
       "  <tbody>\n",
       "    <tr>\n",
       "      <th>count</th>\n",
       "      <td>266.00</td>\n",
       "      <td>266.00</td>\n",
       "      <td>266.00</td>\n",
       "      <td>266.00</td>\n",
       "      <td>266.00</td>\n",
       "      <td>266.00</td>\n",
       "      <td>266.00</td>\n",
       "      <td>266.00</td>\n",
       "      <td>266.00</td>\n",
       "      <td>266.00</td>\n",
       "      <td>...</td>\n",
       "      <td>266.00</td>\n",
       "      <td>266.00</td>\n",
       "      <td>266.00</td>\n",
       "      <td>266.00</td>\n",
       "      <td>266.00</td>\n",
       "      <td>266.00</td>\n",
       "      <td>266.00</td>\n",
       "      <td>266.00</td>\n",
       "      <td>266.00</td>\n",
       "      <td>266.00</td>\n",
       "    </tr>\n",
       "    <tr>\n",
       "      <th>mean</th>\n",
       "      <td>21.08</td>\n",
       "      <td>22.83</td>\n",
       "      <td>0.06</td>\n",
       "      <td>0.07</td>\n",
       "      <td>0.10</td>\n",
       "      <td>0.16</td>\n",
       "      <td>0.21</td>\n",
       "      <td>0.31</td>\n",
       "      <td>0.49</td>\n",
       "      <td>0.50</td>\n",
       "      <td>...</td>\n",
       "      <td>3441.19</td>\n",
       "      <td>3459.52</td>\n",
       "      <td>3473.21</td>\n",
       "      <td>3489.86</td>\n",
       "      <td>3514.48</td>\n",
       "      <td>3536.11</td>\n",
       "      <td>3556.62</td>\n",
       "      <td>3578.07</td>\n",
       "      <td>3597.74</td>\n",
       "      <td>3611.64</td>\n",
       "    </tr>\n",
       "    <tr>\n",
       "      <th>std</th>\n",
       "      <td>24.90</td>\n",
       "      <td>70.19</td>\n",
       "      <td>1.04</td>\n",
       "      <td>1.04</td>\n",
       "      <td>1.47</td>\n",
       "      <td>2.45</td>\n",
       "      <td>3.19</td>\n",
       "      <td>4.66</td>\n",
       "      <td>7.66</td>\n",
       "      <td>7.66</td>\n",
       "      <td>...</td>\n",
       "      <td>16314.67</td>\n",
       "      <td>16398.95</td>\n",
       "      <td>16453.47</td>\n",
       "      <td>16510.26</td>\n",
       "      <td>16636.85</td>\n",
       "      <td>16739.31</td>\n",
       "      <td>16831.54</td>\n",
       "      <td>16934.23</td>\n",
       "      <td>17019.79</td>\n",
       "      <td>17068.31</td>\n",
       "    </tr>\n",
       "    <tr>\n",
       "      <th>min</th>\n",
       "      <td>-51.80</td>\n",
       "      <td>-135.00</td>\n",
       "      <td>0.00</td>\n",
       "      <td>0.00</td>\n",
       "      <td>0.00</td>\n",
       "      <td>0.00</td>\n",
       "      <td>0.00</td>\n",
       "      <td>0.00</td>\n",
       "      <td>0.00</td>\n",
       "      <td>0.00</td>\n",
       "      <td>...</td>\n",
       "      <td>0.00</td>\n",
       "      <td>0.00</td>\n",
       "      <td>0.00</td>\n",
       "      <td>0.00</td>\n",
       "      <td>0.00</td>\n",
       "      <td>0.00</td>\n",
       "      <td>0.00</td>\n",
       "      <td>0.00</td>\n",
       "      <td>0.00</td>\n",
       "      <td>0.00</td>\n",
       "    </tr>\n",
       "    <tr>\n",
       "      <th>25%</th>\n",
       "      <td>6.68</td>\n",
       "      <td>-15.28</td>\n",
       "      <td>0.00</td>\n",
       "      <td>0.00</td>\n",
       "      <td>0.00</td>\n",
       "      <td>0.00</td>\n",
       "      <td>0.00</td>\n",
       "      <td>0.00</td>\n",
       "      <td>0.00</td>\n",
       "      <td>0.00</td>\n",
       "      <td>...</td>\n",
       "      <td>5.00</td>\n",
       "      <td>5.00</td>\n",
       "      <td>5.25</td>\n",
       "      <td>5.25</td>\n",
       "      <td>5.25</td>\n",
       "      <td>5.25</td>\n",
       "      <td>5.25</td>\n",
       "      <td>5.25</td>\n",
       "      <td>5.25</td>\n",
       "      <td>5.25</td>\n",
       "    </tr>\n",
       "    <tr>\n",
       "      <th>50%</th>\n",
       "      <td>22.82</td>\n",
       "      <td>20.92</td>\n",
       "      <td>0.00</td>\n",
       "      <td>0.00</td>\n",
       "      <td>0.00</td>\n",
       "      <td>0.00</td>\n",
       "      <td>0.00</td>\n",
       "      <td>0.00</td>\n",
       "      <td>0.00</td>\n",
       "      <td>0.00</td>\n",
       "      <td>...</td>\n",
       "      <td>57.00</td>\n",
       "      <td>57.00</td>\n",
       "      <td>57.00</td>\n",
       "      <td>57.00</td>\n",
       "      <td>58.00</td>\n",
       "      <td>59.00</td>\n",
       "      <td>60.50</td>\n",
       "      <td>61.50</td>\n",
       "      <td>62.50</td>\n",
       "      <td>64.00</td>\n",
       "    </tr>\n",
       "    <tr>\n",
       "      <th>75%</th>\n",
       "      <td>41.14</td>\n",
       "      <td>77.91</td>\n",
       "      <td>0.00</td>\n",
       "      <td>0.00</td>\n",
       "      <td>0.00</td>\n",
       "      <td>0.00</td>\n",
       "      <td>0.00</td>\n",
       "      <td>0.00</td>\n",
       "      <td>0.00</td>\n",
       "      <td>0.00</td>\n",
       "      <td>...</td>\n",
       "      <td>582.75</td>\n",
       "      <td>588.00</td>\n",
       "      <td>588.25</td>\n",
       "      <td>611.50</td>\n",
       "      <td>620.50</td>\n",
       "      <td>620.50</td>\n",
       "      <td>622.50</td>\n",
       "      <td>629.00</td>\n",
       "      <td>635.75</td>\n",
       "      <td>645.50</td>\n",
       "    </tr>\n",
       "    <tr>\n",
       "      <th>max</th>\n",
       "      <td>71.71</td>\n",
       "      <td>178.06</td>\n",
       "      <td>17.00</td>\n",
       "      <td>17.00</td>\n",
       "      <td>24.00</td>\n",
       "      <td>40.00</td>\n",
       "      <td>52.00</td>\n",
       "      <td>76.00</td>\n",
       "      <td>125.00</td>\n",
       "      <td>125.00</td>\n",
       "      <td>...</td>\n",
       "      <td>192979.00</td>\n",
       "      <td>193693.00</td>\n",
       "      <td>194071.00</td>\n",
       "      <td>194493.00</td>\n",
       "      <td>195781.00</td>\n",
       "      <td>196763.00</td>\n",
       "      <td>197633.00</td>\n",
       "      <td>198570.00</td>\n",
       "      <td>199282.00</td>\n",
       "      <td>199509.00</td>\n",
       "    </tr>\n",
       "  </tbody>\n",
       "</table>\n",
       "<p>8 rows × 245 columns</p>\n",
       "</div>"
      ],
      "text/plain": [
       "          Lat    Long  1/22/20  1/23/20  1/24/20  1/25/20  1/26/20  1/27/20  \\\n",
       "count  266.00  266.00   266.00   266.00   266.00   266.00   266.00   266.00   \n",
       "mean    21.08   22.83     0.06     0.07     0.10     0.16     0.21     0.31   \n",
       "std     24.90   70.19     1.04     1.04     1.47     2.45     3.19     4.66   \n",
       "min    -51.80 -135.00     0.00     0.00     0.00     0.00     0.00     0.00   \n",
       "25%      6.68  -15.28     0.00     0.00     0.00     0.00     0.00     0.00   \n",
       "50%     22.82   20.92     0.00     0.00     0.00     0.00     0.00     0.00   \n",
       "75%     41.14   77.91     0.00     0.00     0.00     0.00     0.00     0.00   \n",
       "max     71.71  178.06    17.00    17.00    24.00    40.00    52.00    76.00   \n",
       "\n",
       "       1/28/20  1/29/20  ...    9/11/20    9/12/20    9/13/20    9/14/20  \\\n",
       "count   266.00   266.00  ...     266.00     266.00     266.00     266.00   \n",
       "mean      0.49     0.50  ...    3441.19    3459.52    3473.21    3489.86   \n",
       "std       7.66     7.66  ...   16314.67   16398.95   16453.47   16510.26   \n",
       "min       0.00     0.00  ...       0.00       0.00       0.00       0.00   \n",
       "25%       0.00     0.00  ...       5.00       5.00       5.25       5.25   \n",
       "50%       0.00     0.00  ...      57.00      57.00      57.00      57.00   \n",
       "75%       0.00     0.00  ...     582.75     588.00     588.25     611.50   \n",
       "max     125.00   125.00  ...  192979.00  193693.00  194071.00  194493.00   \n",
       "\n",
       "         9/15/20    9/16/20    9/17/20    9/18/20    9/19/20    9/20/20  \n",
       "count     266.00     266.00     266.00     266.00     266.00     266.00  \n",
       "mean     3514.48    3536.11    3556.62    3578.07    3597.74    3611.64  \n",
       "std     16636.85   16739.31   16831.54   16934.23   17019.79   17068.31  \n",
       "min         0.00       0.00       0.00       0.00       0.00       0.00  \n",
       "25%         5.25       5.25       5.25       5.25       5.25       5.25  \n",
       "50%        58.00      59.00      60.50      61.50      62.50      64.00  \n",
       "75%       620.50     620.50     622.50     629.00     635.75     645.50  \n",
       "max    195781.00  196763.00  197633.00  198570.00  199282.00  199509.00  \n",
       "\n",
       "[8 rows x 245 columns]"
      ]
     },
     "execution_count": 6,
     "metadata": {},
     "output_type": "execute_result"
    }
   ],
   "source": [
    "df_covid.describe().round(2)"
   ]
  },
  {
   "cell_type": "markdown",
   "metadata": {},
   "source": [
    "### Retirando as colunas 'Lat' e 'Long' da base"
   ]
  },
  {
   "cell_type": "code",
   "execution_count": 7,
   "metadata": {},
   "outputs": [],
   "source": [
    "df_covid.drop(['Lat', 'Long'], axis=1, inplace=True)"
   ]
  },
  {
   "cell_type": "markdown",
   "metadata": {},
   "source": [
    "### Agrupando a base por 'Country/Region'"
   ]
  },
  {
   "cell_type": "markdown",
   "metadata": {},
   "source": [
    "É necessário fazer este agrupamento, pois alguns países são divididos por províncias na base original"
   ]
  },
  {
   "cell_type": "code",
   "execution_count": 8,
   "metadata": {},
   "outputs": [],
   "source": [
    "df_country = df_covid.groupby('Country/Region').sum()"
   ]
  },
  {
   "cell_type": "markdown",
   "metadata": {},
   "source": [
    "### Filtrando somente o Brasil, para o nosso estudo"
   ]
  },
  {
   "cell_type": "code",
   "execution_count": 9,
   "metadata": {},
   "outputs": [
    {
     "data": {
      "text/plain": [
       "1/22/20         0\n",
       "1/23/20         0\n",
       "1/24/20         0\n",
       "1/25/20         0\n",
       "1/26/20         0\n",
       "            ...  \n",
       "9/16/20    134106\n",
       "9/17/20    134935\n",
       "9/18/20    135793\n",
       "9/19/20    136532\n",
       "9/20/20    136895\n",
       "Name: Brazil, Length: 243, dtype: int64"
      ]
     },
     "execution_count": 9,
     "metadata": {},
     "output_type": "execute_result"
    }
   ],
   "source": [
    "df_country.loc['Brazil']"
   ]
  },
  {
   "cell_type": "code",
   "execution_count": 10,
   "metadata": {},
   "outputs": [],
   "source": [
    "s_brazil = df_country.loc['Brazil']"
   ]
  },
  {
   "cell_type": "markdown",
   "metadata": {},
   "source": [
    "### Expurgando os dias sem mortes da análise"
   ]
  },
  {
   "cell_type": "code",
   "execution_count": 11,
   "metadata": {},
   "outputs": [],
   "source": [
    "s_brasil = s_brazil[s_brazil > 0]"
   ]
  },
  {
   "cell_type": "markdown",
   "metadata": {},
   "source": [
    "# Resultados da análise"
   ]
  },
  {
   "cell_type": "markdown",
   "metadata": {},
   "source": [
    "## Evolução das mortes acumuladas"
   ]
  },
  {
   "cell_type": "code",
   "execution_count": 12,
   "metadata": {},
   "outputs": [
    {
     "data": {
      "text/plain": [
       "Text(0.5, 1.0, 'Total de mortes acumuladas por COVID-19 no Brasil')"
      ]
     },
     "execution_count": 12,
     "metadata": {},
     "output_type": "execute_result"
    },
    {
     "data": {
      "image/png": "[encoded data removed]",
      "text/plain": [
       "<Figure size 1008x576 with 2 Axes>"
      ]
     },
     "metadata": {
      "needs_background": "light"
     },
     "output_type": "display_data"
    }
   ],
   "source": [
    "area = plt.figure(figsize=(14,8))\n",
    "eixo = area.add_axes([0,0,1,1])\n",
    "eixo2 = area.add_axes([0.05,.75,.35,.2])\n",
    "\n",
    "eixo.set_title('Total de mortes acumuladas por COVID-19 no Brasil nos últimos 30 dias', fontsize=25)\n",
    "eixo.bar(s_brasil.index[-30:], s_brasil.values[-30:],color=(1,0,0,1))\n",
    "eixo.set_ylim((0,s_brasil.max()+30000))\n",
    "eixo.set_xticklabels(s_brasil.index[-30:], rotation=60)\n",
    "\n",
    "eixo2.fill_between(s_brasil.index[:-30], s_brasil.values[:-30], color=(.5,.5,.5,.5))\n",
    "eixo2.fill_between(s_brasil.index[-30:], s_brasil.values[-30:], color=(1,0,0,.7))\n",
    "eixo2.get_xaxis().set_ticks([])\n",
    "eixo2.get_yaxis().set_ticks([])\n",
    "eixo2.set_title('Total de mortes acumuladas por COVID-19 no Brasil')"
   ]
  },
  {
   "cell_type": "markdown",
   "metadata": {},
   "source": [
    "## Comportamento das mortes diárias"
   ]
  },
  {
   "cell_type": "markdown",
   "metadata": {},
   "source": [
    "### Calculando as mortes diárias a partir da base que estamos utlizando"
   ]
  },
  {
   "cell_type": "code",
   "execution_count": 13,
   "metadata": {},
   "outputs": [],
   "source": [
    "mortes_diarias = s_brasil - s_brasil.shift(1)\n",
    "mortes_diarias = mortes_diarias.reset_index()\n",
    "mortes_diarias.dropna(inplace=True)"
   ]
  },
  {
   "cell_type": "markdown",
   "metadata": {},
   "source": [
    "### Plotando as mortes diárias e a média nos últimos 60 dias"
   ]
  },
  {
   "cell_type": "code",
   "execution_count": 14,
   "metadata": {},
   "outputs": [
    {
     "data": {
      "text/plain": [
       "Text(0.5, 1.0, 'Mortes diárias por COVID-19 no Brasil')"
      ]
     },
     "execution_count": 14,
     "metadata": {},
     "output_type": "execute_result"
    },
    {
     "data": {
      "image/png": "[encoded data removed]",
      "text/plain": [
       "<Figure size 1008x576 with 2 Axes>"
      ]
     },
     "metadata": {
      "needs_background": "light"
     },
     "output_type": "display_data"
    }
   ],
   "source": [
    "area = plt.figure(figsize=(14,8))\n",
    "eixo = area.add_axes([0,0,1,1])\n",
    "eixo2 = area.add_axes([0.6,.75,.35,.2])\n",
    "\n",
    "media = mortes_diarias['Brazil'][-60:].mean()\n",
    "\n",
    "eixo.set_title('Mortes diárias por COVID-19 no Brasil nos últimos 30 dias', fontsize=25)\n",
    "eixo.bar(mortes_diarias['index'][-30:], mortes_diarias['Brazil'][-30:], color=(1,0,0,.7))\n",
    "eixo.set_ylim((0,mortes_diarias['Brazil'][-30:].max()+800))\n",
    "eixo.set_xticklabels(labels=mortes_diarias['index'][-30:],rotation=60)\n",
    "eixo.axhline(media, color='k', linestyle=':')\n",
    "eixo.annotate('média dos últimos 60 dias', xy=(25, media+100), fontsize=12)\n",
    "\n",
    "eixo2.fill_between(mortes_diarias['index'][:-30], mortes_diarias['Brazil'][:-30], color=(.5,0.5,0.5,1))\n",
    "eixo2.fill_between(mortes_diarias['index'][-30:], mortes_diarias['Brazil'][-30:], color=(1,0,0,.7))\n",
    "eixo2.get_xaxis().set_ticks([])\n",
    "eixo2.get_yaxis().set_ticks([])\n",
    "eixo2.set_title('Mortes diárias por COVID-19 no Brasil', fontsize=18)"
   ]
  },
  {
   "cell_type": "markdown",
   "metadata": {},
   "source": [
    "## Análise das médias móveis com janela de 7 dias"
   ]
  },
  {
   "cell_type": "markdown",
   "metadata": {},
   "source": [
    "### Calculando as médias móveis a partir dos mortes diárias"
   ]
  },
  {
   "cell_type": "markdown",
   "metadata": {},
   "source": [
    "Escolhi a janela de 7 dias para tentar amortecer o efeito serrilhado dos finais de semana, onde muitos dados deixam de ser reportados."
   ]
  },
  {
   "cell_type": "code",
   "execution_count": 15,
   "metadata": {},
   "outputs": [],
   "source": [
    "medias_moveis_diarias = mortes_diarias.rolling(7).mean()\n",
    "medias_moveis_diarias.dropna(inplace=True)\n",
    "medias_moveis_diarias = medias_moveis_diarias.reset_index()"
   ]
  },
  {
   "cell_type": "markdown",
   "metadata": {},
   "source": [
    "### Plotando o comportamento das médias móveis"
   ]
  },
  {
   "cell_type": "code",
   "execution_count": 16,
   "metadata": {},
   "outputs": [
    {
     "data": {
      "text/plain": [
       "Text(0.5, 1.0, 'Média móvel das mortes por COVID-19 no Brasil')"
      ]
     },
     "execution_count": 16,
     "metadata": {},
     "output_type": "execute_result"
    },
    {
     "data": {
      "image/png": "[encoded data removed]",
      "text/plain": [
       "<Figure size 1008x576 with 2 Axes>"
      ]
     },
     "metadata": {
      "needs_background": "light"
     },
     "output_type": "display_data"
    }
   ],
   "source": [
    "area = plt.figure(figsize=(14,8))\n",
    "eixo = area.add_axes([0,0,1,1])\n",
    "eixo2 = area.add_axes([0.6,.75,.35,.2])\n",
    "\n",
    "\n",
    "eixo.set_title('Média móvel das mortes por COVID-19 no Brasil nos últimos 30 dias', fontsize=25)\n",
    "eixo.bar(medias_moveis_diarias['index'][-30:], medias_moveis_diarias['Brazil'][-30:], color=(1,0,0,.7))\n",
    "eixo.set_ylim((0,medias_moveis_diarias['Brazil'][-30:].max()+800))\n",
    "eixo.set_xticklabels(labels=medias_moveis_diarias['index'][-30:],rotation=60)\n",
    "\n",
    "eixo2.fill_between(medias_moveis_diarias['index'][:-30], 0, medias_moveis_diarias['Brazil'][:-30], color=(.5,0.5,0.5,1))\n",
    "eixo2.fill_between(medias_moveis_diarias['index'][-30:], medias_moveis_diarias['Brazil'][-30:], color=(1,0,0,.7))\n",
    "eixo2.get_xaxis().set_ticks([])\n",
    "eixo2.get_yaxis().set_ticks([])\n",
    "eixo2.set_title('Média móvel das mortes por COVID-19 no Brasil', fontsize=18)"
   ]
  },
  {
   "cell_type": "code",
   "execution_count": null,
   "metadata": {},
   "outputs": [],
   "source": []
  }
 ],
 "metadata": {
  "kernelspec": {
   "display_name": "Python 3",
   "language": "python",
   "name": "python3"
  },
  "language_info": {
   "codemirror_mode": {
    "name": "ipython",
    "version": 3
   },
   "file_extension": ".py",
   "mimetype": "text/x-python",
   "name": "python",
   "nbconvert_exporter": "python",
   "pygments_lexer": "ipython3",
   "version": "3.8.2"
  }
 },
 "nbformat": 4,
 "nbformat_minor": 4
}
