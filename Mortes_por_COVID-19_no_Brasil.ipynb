{
 "cells": [
  {
   "cell_type": "markdown",
   "metadata": {},
   "source": [
    "# Estudo dinâmico das mortes por COVID no Brasil"
   ]
  },
  {
   "cell_type": "markdown",
   "metadata": {},
   "source": [
    "## Preparativos iniciais"
   ]
  },
  {
   "cell_type": "markdown",
   "metadata": {},
   "source": [
    "### Importando as bibliotecas necessárias"
   ]
  },
  {
   "cell_type": "code",
   "execution_count": 1,
   "metadata": {},
   "outputs": [],
   "source": [
    "import pandas as pd\n",
    "from urllib.request import urlretrieve\n",
    "import matplotlib.pyplot as plt"
   ]
  },
  {
   "cell_type": "markdown",
   "metadata": {},
   "source": [
    "### Buscando a base de dados mais atualizada"
   ]
  },
  {
   "cell_type": "code",
   "execution_count": 2,
   "metadata": {},
   "outputs": [
    {
     "data": {
      "text/plain": [
       "('Datasets/covid19_deaths.csv', <http.client.HTTPMessage at 0x21e18b6ccd0>)"
      ]
     },
     "execution_count": 2,
     "metadata": {},
     "output_type": "execute_result"
    }
   ],
   "source": [
    "url = 'https://raw.githubusercontent.com/CSSEGISandData/COVID-19/master/csse_covid_19_data/csse_covid_19_time_series/time_series_covid19_deaths_global.csv'\n",
    "urlretrieve(url, 'Datasets/covid19_deaths.csv')\n"
   ]
  },
  {
   "cell_type": "code",
   "execution_count": 3,
   "metadata": {},
   "outputs": [],
   "source": [
    "df_covid = pd.read_csv('Datasets/covid19_deaths.csv')"
   ]
  },
  {
   "cell_type": "markdown",
   "metadata": {},
   "source": [
    "### Fazendo uma análise preliminar da base"
   ]
  },
  {
   "cell_type": "code",
   "execution_count": 4,
   "metadata": {},
   "outputs": [
    {
     "data": {
      "text/plain": [
       "Index(['Province/State', 'Country/Region', 'Lat', 'Long', '1/22/20', '1/23/20',\n",
       "       '1/24/20', '1/25/20', '1/26/20', '1/27/20',\n",
       "       ...\n",
       "       '8/21/20', '8/22/20', '8/23/20', '8/24/20', '8/25/20', '8/26/20',\n",
       "       '8/27/20', '8/28/20', '8/29/20', '8/30/20'],\n",
       "      dtype='object', length=226)"
      ]
     },
     "execution_count": 4,
     "metadata": {},
     "output_type": "execute_result"
    }
   ],
   "source": [
    "df_covid.columns"
   ]
  },
  {
   "cell_type": "code",
   "execution_count": 5,
   "metadata": {},
   "outputs": [
    {
     "data": {
      "text/html": [
       "<div>\n",
       "<style scoped>\n",
       "    .dataframe tbody tr th:only-of-type {\n",
       "        vertical-align: middle;\n",
       "    }\n",
       "\n",
       "    .dataframe tbody tr th {\n",
       "        vertical-align: top;\n",
       "    }\n",
       "\n",
       "    .dataframe thead th {\n",
       "        text-align: right;\n",
       "    }\n",
       "</style>\n",
       "<table border=\"1\" class=\"dataframe\">\n",
       "  <thead>\n",
       "    <tr style=\"text-align: right;\">\n",
       "      <th></th>\n",
       "      <th>Province/State</th>\n",
       "      <th>Country/Region</th>\n",
       "      <th>Lat</th>\n",
       "      <th>Long</th>\n",
       "      <th>1/22/20</th>\n",
       "      <th>1/23/20</th>\n",
       "      <th>1/24/20</th>\n",
       "      <th>1/25/20</th>\n",
       "      <th>1/26/20</th>\n",
       "      <th>1/27/20</th>\n",
       "      <th>...</th>\n",
       "      <th>8/21/20</th>\n",
       "      <th>8/22/20</th>\n",
       "      <th>8/23/20</th>\n",
       "      <th>8/24/20</th>\n",
       "      <th>8/25/20</th>\n",
       "      <th>8/26/20</th>\n",
       "      <th>8/27/20</th>\n",
       "      <th>8/28/20</th>\n",
       "      <th>8/29/20</th>\n",
       "      <th>8/30/20</th>\n",
       "    </tr>\n",
       "  </thead>\n",
       "  <tbody>\n",
       "    <tr>\n",
       "      <th>0</th>\n",
       "      <td>NaN</td>\n",
       "      <td>Afghanistan</td>\n",
       "      <td>33.93911</td>\n",
       "      <td>67.709953</td>\n",
       "      <td>0</td>\n",
       "      <td>0</td>\n",
       "      <td>0</td>\n",
       "      <td>0</td>\n",
       "      <td>0</td>\n",
       "      <td>0</td>\n",
       "      <td>...</td>\n",
       "      <td>1385</td>\n",
       "      <td>1385</td>\n",
       "      <td>1387</td>\n",
       "      <td>1389</td>\n",
       "      <td>1397</td>\n",
       "      <td>1401</td>\n",
       "      <td>1401</td>\n",
       "      <td>1402</td>\n",
       "      <td>1402</td>\n",
       "      <td>1402</td>\n",
       "    </tr>\n",
       "    <tr>\n",
       "      <th>1</th>\n",
       "      <td>NaN</td>\n",
       "      <td>Albania</td>\n",
       "      <td>41.15330</td>\n",
       "      <td>20.168300</td>\n",
       "      <td>0</td>\n",
       "      <td>0</td>\n",
       "      <td>0</td>\n",
       "      <td>0</td>\n",
       "      <td>0</td>\n",
       "      <td>0</td>\n",
       "      <td>...</td>\n",
       "      <td>240</td>\n",
       "      <td>245</td>\n",
       "      <td>250</td>\n",
       "      <td>254</td>\n",
       "      <td>259</td>\n",
       "      <td>263</td>\n",
       "      <td>266</td>\n",
       "      <td>271</td>\n",
       "      <td>275</td>\n",
       "      <td>280</td>\n",
       "    </tr>\n",
       "    <tr>\n",
       "      <th>2</th>\n",
       "      <td>NaN</td>\n",
       "      <td>Algeria</td>\n",
       "      <td>28.03390</td>\n",
       "      <td>1.659600</td>\n",
       "      <td>0</td>\n",
       "      <td>0</td>\n",
       "      <td>0</td>\n",
       "      <td>0</td>\n",
       "      <td>0</td>\n",
       "      <td>0</td>\n",
       "      <td>...</td>\n",
       "      <td>1418</td>\n",
       "      <td>1424</td>\n",
       "      <td>1435</td>\n",
       "      <td>1446</td>\n",
       "      <td>1456</td>\n",
       "      <td>1465</td>\n",
       "      <td>1475</td>\n",
       "      <td>1483</td>\n",
       "      <td>1491</td>\n",
       "      <td>1501</td>\n",
       "    </tr>\n",
       "    <tr>\n",
       "      <th>3</th>\n",
       "      <td>NaN</td>\n",
       "      <td>Andorra</td>\n",
       "      <td>42.50630</td>\n",
       "      <td>1.521800</td>\n",
       "      <td>0</td>\n",
       "      <td>0</td>\n",
       "      <td>0</td>\n",
       "      <td>0</td>\n",
       "      <td>0</td>\n",
       "      <td>0</td>\n",
       "      <td>...</td>\n",
       "      <td>53</td>\n",
       "      <td>53</td>\n",
       "      <td>53</td>\n",
       "      <td>53</td>\n",
       "      <td>53</td>\n",
       "      <td>53</td>\n",
       "      <td>53</td>\n",
       "      <td>53</td>\n",
       "      <td>53</td>\n",
       "      <td>53</td>\n",
       "    </tr>\n",
       "    <tr>\n",
       "      <th>4</th>\n",
       "      <td>NaN</td>\n",
       "      <td>Angola</td>\n",
       "      <td>-11.20270</td>\n",
       "      <td>17.873900</td>\n",
       "      <td>0</td>\n",
       "      <td>0</td>\n",
       "      <td>0</td>\n",
       "      <td>0</td>\n",
       "      <td>0</td>\n",
       "      <td>0</td>\n",
       "      <td>...</td>\n",
       "      <td>94</td>\n",
       "      <td>94</td>\n",
       "      <td>96</td>\n",
       "      <td>100</td>\n",
       "      <td>102</td>\n",
       "      <td>103</td>\n",
       "      <td>105</td>\n",
       "      <td>106</td>\n",
       "      <td>107</td>\n",
       "      <td>107</td>\n",
       "    </tr>\n",
       "  </tbody>\n",
       "</table>\n",
       "<p>5 rows × 226 columns</p>\n",
       "</div>"
      ],
      "text/plain": [
       "  Province/State Country/Region       Lat       Long  1/22/20  1/23/20  \\\n",
       "0            NaN    Afghanistan  33.93911  67.709953        0        0   \n",
       "1            NaN        Albania  41.15330  20.168300        0        0   \n",
       "2            NaN        Algeria  28.03390   1.659600        0        0   \n",
       "3            NaN        Andorra  42.50630   1.521800        0        0   \n",
       "4            NaN         Angola -11.20270  17.873900        0        0   \n",
       "\n",
       "   1/24/20  1/25/20  1/26/20  1/27/20  ...  8/21/20  8/22/20  8/23/20  \\\n",
       "0        0        0        0        0  ...     1385     1385     1387   \n",
       "1        0        0        0        0  ...      240      245      250   \n",
       "2        0        0        0        0  ...     1418     1424     1435   \n",
       "3        0        0        0        0  ...       53       53       53   \n",
       "4        0        0        0        0  ...       94       94       96   \n",
       "\n",
       "   8/24/20  8/25/20  8/26/20  8/27/20  8/28/20  8/29/20  8/30/20  \n",
       "0     1389     1397     1401     1401     1402     1402     1402  \n",
       "1      254      259      263      266      271      275      280  \n",
       "2     1446     1456     1465     1475     1483     1491     1501  \n",
       "3       53       53       53       53       53       53       53  \n",
       "4      100      102      103      105      106      107      107  \n",
       "\n",
       "[5 rows x 226 columns]"
      ]
     },
     "execution_count": 5,
     "metadata": {},
     "output_type": "execute_result"
    }
   ],
   "source": [
    "df_covid.head()"
   ]
  },
  {
   "cell_type": "code",
   "execution_count": 6,
   "metadata": {},
   "outputs": [
    {
     "data": {
      "text/html": [
       "<div>\n",
       "<style scoped>\n",
       "    .dataframe tbody tr th:only-of-type {\n",
       "        vertical-align: middle;\n",
       "    }\n",
       "\n",
       "    .dataframe tbody tr th {\n",
       "        vertical-align: top;\n",
       "    }\n",
       "\n",
       "    .dataframe thead th {\n",
       "        text-align: right;\n",
       "    }\n",
       "</style>\n",
       "<table border=\"1\" class=\"dataframe\">\n",
       "  <thead>\n",
       "    <tr style=\"text-align: right;\">\n",
       "      <th></th>\n",
       "      <th>Lat</th>\n",
       "      <th>Long</th>\n",
       "      <th>1/22/20</th>\n",
       "      <th>1/23/20</th>\n",
       "      <th>1/24/20</th>\n",
       "      <th>1/25/20</th>\n",
       "      <th>1/26/20</th>\n",
       "      <th>1/27/20</th>\n",
       "      <th>1/28/20</th>\n",
       "      <th>1/29/20</th>\n",
       "      <th>...</th>\n",
       "      <th>8/21/20</th>\n",
       "      <th>8/22/20</th>\n",
       "      <th>8/23/20</th>\n",
       "      <th>8/24/20</th>\n",
       "      <th>8/25/20</th>\n",
       "      <th>8/26/20</th>\n",
       "      <th>8/27/20</th>\n",
       "      <th>8/28/20</th>\n",
       "      <th>8/29/20</th>\n",
       "      <th>8/30/20</th>\n",
       "    </tr>\n",
       "  </thead>\n",
       "  <tbody>\n",
       "    <tr>\n",
       "      <th>count</th>\n",
       "      <td>266.00</td>\n",
       "      <td>266.00</td>\n",
       "      <td>266.00</td>\n",
       "      <td>266.00</td>\n",
       "      <td>266.00</td>\n",
       "      <td>266.00</td>\n",
       "      <td>266.00</td>\n",
       "      <td>266.00</td>\n",
       "      <td>266.00</td>\n",
       "      <td>266.00</td>\n",
       "      <td>...</td>\n",
       "      <td>266.00</td>\n",
       "      <td>266.00</td>\n",
       "      <td>266.00</td>\n",
       "      <td>266.00</td>\n",
       "      <td>266.00</td>\n",
       "      <td>266.00</td>\n",
       "      <td>266.00</td>\n",
       "      <td>266.00</td>\n",
       "      <td>266.00</td>\n",
       "      <td>266.00</td>\n",
       "    </tr>\n",
       "    <tr>\n",
       "      <th>mean</th>\n",
       "      <td>21.08</td>\n",
       "      <td>22.83</td>\n",
       "      <td>0.06</td>\n",
       "      <td>0.07</td>\n",
       "      <td>0.10</td>\n",
       "      <td>0.16</td>\n",
       "      <td>0.21</td>\n",
       "      <td>0.31</td>\n",
       "      <td>0.49</td>\n",
       "      <td>0.50</td>\n",
       "      <td>...</td>\n",
       "      <td>3004.72</td>\n",
       "      <td>3024.13</td>\n",
       "      <td>3040.15</td>\n",
       "      <td>3056.46</td>\n",
       "      <td>3080.51</td>\n",
       "      <td>3104.12</td>\n",
       "      <td>3126.26</td>\n",
       "      <td>3147.08</td>\n",
       "      <td>3167.29</td>\n",
       "      <td>3181.94</td>\n",
       "    </tr>\n",
       "    <tr>\n",
       "      <th>std</th>\n",
       "      <td>24.90</td>\n",
       "      <td>70.19</td>\n",
       "      <td>1.04</td>\n",
       "      <td>1.04</td>\n",
       "      <td>1.47</td>\n",
       "      <td>2.45</td>\n",
       "      <td>3.19</td>\n",
       "      <td>4.66</td>\n",
       "      <td>7.66</td>\n",
       "      <td>7.66</td>\n",
       "      <td>...</td>\n",
       "      <td>14440.75</td>\n",
       "      <td>14536.19</td>\n",
       "      <td>14591.31</td>\n",
       "      <td>14648.87</td>\n",
       "      <td>14769.16</td>\n",
       "      <td>14885.40</td>\n",
       "      <td>14991.33</td>\n",
       "      <td>15087.35</td>\n",
       "      <td>15180.96</td>\n",
       "      <td>15234.10</td>\n",
       "    </tr>\n",
       "    <tr>\n",
       "      <th>min</th>\n",
       "      <td>-51.80</td>\n",
       "      <td>-135.00</td>\n",
       "      <td>0.00</td>\n",
       "      <td>0.00</td>\n",
       "      <td>0.00</td>\n",
       "      <td>0.00</td>\n",
       "      <td>0.00</td>\n",
       "      <td>0.00</td>\n",
       "      <td>0.00</td>\n",
       "      <td>0.00</td>\n",
       "      <td>...</td>\n",
       "      <td>0.00</td>\n",
       "      <td>0.00</td>\n",
       "      <td>0.00</td>\n",
       "      <td>0.00</td>\n",
       "      <td>0.00</td>\n",
       "      <td>0.00</td>\n",
       "      <td>0.00</td>\n",
       "      <td>0.00</td>\n",
       "      <td>0.00</td>\n",
       "      <td>0.00</td>\n",
       "    </tr>\n",
       "    <tr>\n",
       "      <th>25%</th>\n",
       "      <td>6.68</td>\n",
       "      <td>-15.28</td>\n",
       "      <td>0.00</td>\n",
       "      <td>0.00</td>\n",
       "      <td>0.00</td>\n",
       "      <td>0.00</td>\n",
       "      <td>0.00</td>\n",
       "      <td>0.00</td>\n",
       "      <td>0.00</td>\n",
       "      <td>0.00</td>\n",
       "      <td>...</td>\n",
       "      <td>4.00</td>\n",
       "      <td>4.00</td>\n",
       "      <td>4.00</td>\n",
       "      <td>4.00</td>\n",
       "      <td>4.00</td>\n",
       "      <td>4.00</td>\n",
       "      <td>4.00</td>\n",
       "      <td>4.00</td>\n",
       "      <td>4.00</td>\n",
       "      <td>4.25</td>\n",
       "    </tr>\n",
       "    <tr>\n",
       "      <th>50%</th>\n",
       "      <td>22.82</td>\n",
       "      <td>20.92</td>\n",
       "      <td>0.00</td>\n",
       "      <td>0.00</td>\n",
       "      <td>0.00</td>\n",
       "      <td>0.00</td>\n",
       "      <td>0.00</td>\n",
       "      <td>0.00</td>\n",
       "      <td>0.00</td>\n",
       "      <td>0.00</td>\n",
       "      <td>...</td>\n",
       "      <td>53.00</td>\n",
       "      <td>53.00</td>\n",
       "      <td>53.00</td>\n",
       "      <td>54.00</td>\n",
       "      <td>54.00</td>\n",
       "      <td>54.00</td>\n",
       "      <td>54.00</td>\n",
       "      <td>54.00</td>\n",
       "      <td>54.00</td>\n",
       "      <td>54.00</td>\n",
       "    </tr>\n",
       "    <tr>\n",
       "      <th>75%</th>\n",
       "      <td>41.14</td>\n",
       "      <td>77.91</td>\n",
       "      <td>0.00</td>\n",
       "      <td>0.00</td>\n",
       "      <td>0.00</td>\n",
       "      <td>0.00</td>\n",
       "      <td>0.00</td>\n",
       "      <td>0.00</td>\n",
       "      <td>0.00</td>\n",
       "      <td>0.00</td>\n",
       "      <td>...</td>\n",
       "      <td>511.75</td>\n",
       "      <td>514.50</td>\n",
       "      <td>517.25</td>\n",
       "      <td>518.75</td>\n",
       "      <td>520.50</td>\n",
       "      <td>521.75</td>\n",
       "      <td>523.50</td>\n",
       "      <td>526.50</td>\n",
       "      <td>528.75</td>\n",
       "      <td>555.75</td>\n",
       "    </tr>\n",
       "    <tr>\n",
       "      <th>max</th>\n",
       "      <td>71.71</td>\n",
       "      <td>178.06</td>\n",
       "      <td>17.00</td>\n",
       "      <td>17.00</td>\n",
       "      <td>24.00</td>\n",
       "      <td>40.00</td>\n",
       "      <td>52.00</td>\n",
       "      <td>76.00</td>\n",
       "      <td>125.00</td>\n",
       "      <td>125.00</td>\n",
       "      <td>...</td>\n",
       "      <td>175367.00</td>\n",
       "      <td>176350.00</td>\n",
       "      <td>176800.00</td>\n",
       "      <td>177245.00</td>\n",
       "      <td>178486.00</td>\n",
       "      <td>179708.00</td>\n",
       "      <td>180824.00</td>\n",
       "      <td>181800.00</td>\n",
       "      <td>182761.00</td>\n",
       "      <td>183066.00</td>\n",
       "    </tr>\n",
       "  </tbody>\n",
       "</table>\n",
       "<p>8 rows × 224 columns</p>\n",
       "</div>"
      ],
      "text/plain": [
       "          Lat    Long  1/22/20  1/23/20  1/24/20  1/25/20  1/26/20  1/27/20  \\\n",
       "count  266.00  266.00   266.00   266.00   266.00   266.00   266.00   266.00   \n",
       "mean    21.08   22.83     0.06     0.07     0.10     0.16     0.21     0.31   \n",
       "std     24.90   70.19     1.04     1.04     1.47     2.45     3.19     4.66   \n",
       "min    -51.80 -135.00     0.00     0.00     0.00     0.00     0.00     0.00   \n",
       "25%      6.68  -15.28     0.00     0.00     0.00     0.00     0.00     0.00   \n",
       "50%     22.82   20.92     0.00     0.00     0.00     0.00     0.00     0.00   \n",
       "75%     41.14   77.91     0.00     0.00     0.00     0.00     0.00     0.00   \n",
       "max     71.71  178.06    17.00    17.00    24.00    40.00    52.00    76.00   \n",
       "\n",
       "       1/28/20  1/29/20  ...    8/21/20    8/22/20    8/23/20    8/24/20  \\\n",
       "count   266.00   266.00  ...     266.00     266.00     266.00     266.00   \n",
       "mean      0.49     0.50  ...    3004.72    3024.13    3040.15    3056.46   \n",
       "std       7.66     7.66  ...   14440.75   14536.19   14591.31   14648.87   \n",
       "min       0.00     0.00  ...       0.00       0.00       0.00       0.00   \n",
       "25%       0.00     0.00  ...       4.00       4.00       4.00       4.00   \n",
       "50%       0.00     0.00  ...      53.00      53.00      53.00      54.00   \n",
       "75%       0.00     0.00  ...     511.75     514.50     517.25     518.75   \n",
       "max     125.00   125.00  ...  175367.00  176350.00  176800.00  177245.00   \n",
       "\n",
       "         8/25/20    8/26/20    8/27/20    8/28/20    8/29/20    8/30/20  \n",
       "count     266.00     266.00     266.00     266.00     266.00     266.00  \n",
       "mean     3080.51    3104.12    3126.26    3147.08    3167.29    3181.94  \n",
       "std     14769.16   14885.40   14991.33   15087.35   15180.96   15234.10  \n",
       "min         0.00       0.00       0.00       0.00       0.00       0.00  \n",
       "25%         4.00       4.00       4.00       4.00       4.00       4.25  \n",
       "50%        54.00      54.00      54.00      54.00      54.00      54.00  \n",
       "75%       520.50     521.75     523.50     526.50     528.75     555.75  \n",
       "max    178486.00  179708.00  180824.00  181800.00  182761.00  183066.00  \n",
       "\n",
       "[8 rows x 224 columns]"
      ]
     },
     "execution_count": 6,
     "metadata": {},
     "output_type": "execute_result"
    }
   ],
   "source": [
    "df_covid.describe().round(2)"
   ]
  },
  {
   "cell_type": "markdown",
   "metadata": {},
   "source": [
    "### Retirando as colunas 'Lat' e 'Long' da base"
   ]
  },
  {
   "cell_type": "code",
   "execution_count": 7,
   "metadata": {},
   "outputs": [],
   "source": [
    "df_covid.drop(['Lat', 'Long'], axis=1, inplace=True)"
   ]
  },
  {
   "cell_type": "markdown",
   "metadata": {},
   "source": [
    "### Agrupando a base por 'Country/Region'"
   ]
  },
  {
   "cell_type": "markdown",
   "metadata": {},
   "source": [
    "É necessário fazer este agrupamento, pois alguns países são divididos por províncias na base original"
   ]
  },
  {
   "cell_type": "code",
   "execution_count": 8,
   "metadata": {},
   "outputs": [],
   "source": [
    "df_country = df_covid.groupby('Country/Region').sum()"
   ]
  },
  {
   "cell_type": "markdown",
   "metadata": {},
   "source": [
    "### Filtrando somente o Brasil, para o nosso estudo"
   ]
  },
  {
   "cell_type": "code",
   "execution_count": 9,
   "metadata": {},
   "outputs": [
    {
     "data": {
      "text/plain": [
       "1/22/20         0\n",
       "1/23/20         0\n",
       "1/24/20         0\n",
       "1/25/20         0\n",
       "1/26/20         0\n",
       "            ...  \n",
       "8/26/20    117665\n",
       "8/27/20    118649\n",
       "8/28/20    119504\n",
       "8/29/20    120262\n",
       "8/30/20    120828\n",
       "Name: Brazil, Length: 222, dtype: int64"
      ]
     },
     "execution_count": 9,
     "metadata": {},
     "output_type": "execute_result"
    }
   ],
   "source": [
    "df_country.loc['Brazil']"
   ]
  },
  {
   "cell_type": "code",
   "execution_count": 10,
   "metadata": {},
   "outputs": [],
   "source": [
    "s_brazil = df_country.loc['Brazil']"
   ]
  },
  {
   "cell_type": "markdown",
   "metadata": {},
   "source": [
    "### Expurgando os dias sem mortes da análise"
   ]
  },
  {
   "cell_type": "code",
   "execution_count": 11,
   "metadata": {},
   "outputs": [],
   "source": [
    "s_brasil = s_brazil[s_brazil > 0]"
   ]
  },
  {
   "cell_type": "markdown",
   "metadata": {},
   "source": [
    "# Resultados da análise"
   ]
  },
  {
   "cell_type": "markdown",
   "metadata": {},
   "source": [
    "## Evolução das mortes acumuladas"
   ]
  },
  {
   "cell_type": "code",
   "execution_count": 12,
   "metadata": {},
   "outputs": [
    {
     "data": {
      "text/plain": [
       "Text(0.5, 1.0, 'Total de mortes acumuladas por COVID-19 no Brasil')"
      ]
     },
     "execution_count": 12,
     "metadata": {},
     "output_type": "execute_result"
    },
    {
     "data": {
      "image/png": "[encoded data removed]",
      "text/plain": [
       "<Figure size 1008x576 with 2 Axes>"
      ]
     },
     "metadata": {
      "needs_background": "light"
     },
     "output_type": "display_data"
    }
   ],
   "source": [
    "area = plt.figure(figsize=(14,8))\n",
    "eixo = area.add_axes([0,0,1,1])\n",
    "eixo2 = area.add_axes([0.05,.75,.35,.2])\n",
    "\n",
    "eixo.set_title('Total de mortes acumuladas por COVID-19 no Brasil nos últimos 30 dias', fontsize=25)\n",
    "eixo.bar(s_brasil.index[-30:], s_brasil.values[-30:],color=(1,0,0,1))\n",
    "eixo.set_ylim((0,s_brasil.max()+30000))\n",
    "eixo.set_xticklabels(s_brasil.index[-30:], rotation=60)\n",
    "\n",
    "eixo2.fill_between(s_brasil.index[:-30], s_brasil.values[:-30], color=(.5,.5,.5,.5))\n",
    "eixo2.fill_between(s_brasil.index[-30:], s_brasil.values[-30:], color=(1,0,0,.7))\n",
    "eixo2.get_xaxis().set_ticks([])\n",
    "eixo2.get_yaxis().set_ticks([])\n",
    "eixo2.set_title('Total de mortes acumuladas por COVID-19 no Brasil')"
   ]
  },
  {
   "cell_type": "markdown",
   "metadata": {},
   "source": [
    "## Comportamento das mortes diárias"
   ]
  },
  {
   "cell_type": "markdown",
   "metadata": {},
   "source": [
    "### Calculando as mortes diárias a partir da base que estamos utlizando"
   ]
  },
  {
   "cell_type": "code",
   "execution_count": 13,
   "metadata": {},
   "outputs": [],
   "source": [
    "mortes_diarias = s_brasil - s_brasil.shift(1)\n",
    "mortes_diarias = mortes_diarias.reset_index()\n",
    "mortes_diarias.dropna(inplace=True)"
   ]
  },
  {
   "cell_type": "markdown",
   "metadata": {},
   "source": [
    "### Plotando as mortes diárias e a média nos últimos 60 dias"
   ]
  },
  {
   "cell_type": "code",
   "execution_count": 14,
   "metadata": {},
   "outputs": [
    {
     "data": {
      "text/plain": [
       "Text(0.5, 1.0, 'Mortes diárias por COVID-19 no Brasil')"
      ]
     },
     "execution_count": 14,
     "metadata": {},
     "output_type": "execute_result"
    },
    {
     "data": {
      "image/png": "[encoded data removed]",
      "text/plain": [
       "<Figure size 1008x576 with 2 Axes>"
      ]
     },
     "metadata": {
      "needs_background": "light"
     },
     "output_type": "display_data"
    }
   ],
   "source": [
    "area = plt.figure(figsize=(14,8))\n",
    "eixo = area.add_axes([0,0,1,1])\n",
    "eixo2 = area.add_axes([0.6,.75,.35,.2])\n",
    "\n",
    "media = mortes_diarias['Brazil'][-60:].mean()\n",
    "\n",
    "eixo.set_title('Mortes diárias por COVID-19 no Brasil nos últimos 30 dias', fontsize=25)\n",
    "eixo.bar(mortes_diarias['index'][-30:], mortes_diarias['Brazil'][-30:], color=(1,0,0,.7))\n",
    "eixo.set_ylim((0,mortes_diarias['Brazil'][-30:].max()+800))\n",
    "eixo.set_xticklabels(labels=mortes_diarias['index'][-30:],rotation=60)\n",
    "eixo.axhline(media, color='k', linestyle=':')\n",
    "eixo.annotate('média dos últimos 60 dias', xy=(25, media+100), fontsize=12)\n",
    "\n",
    "eixo2.fill_between(mortes_diarias['index'][:-30], mortes_diarias['Brazil'][:-30], color=(.5,0.5,0.5,1))\n",
    "eixo2.fill_between(mortes_diarias['index'][-30:], mortes_diarias['Brazil'][-30:], color=(1,0,0,.7))\n",
    "eixo2.get_xaxis().set_ticks([])\n",
    "eixo2.get_yaxis().set_ticks([])\n",
    "eixo2.set_title('Mortes diárias por COVID-19 no Brasil', fontsize=18)"
   ]
  },
  {
   "cell_type": "markdown",
   "metadata": {},
   "source": [
    "## Análise das médias móveis com janela de 7 dias"
   ]
  },
  {
   "cell_type": "markdown",
   "metadata": {},
   "source": [
    "### Calculando as médias móveis a partir dos mortes diárias"
   ]
  },
  {
   "cell_type": "markdown",
   "metadata": {},
   "source": [
    "Escolhi a janela de 7 dias para tentar amortecer o efeito serrilhado dos finais de semana, onde muitos dados deixam de ser reportados."
   ]
  },
  {
   "cell_type": "code",
   "execution_count": 15,
   "metadata": {},
   "outputs": [],
   "source": [
    "medias_moveis_diarias = mortes_diarias.rolling(7).mean()\n",
    "medias_moveis_diarias.dropna(inplace=True)\n",
    "medias_moveis_diarias = medias_moveis_diarias.reset_index()"
   ]
  },
  {
   "cell_type": "markdown",
   "metadata": {},
   "source": [
    "### Plotando o comportamento das médias móveis"
   ]
  },
  {
   "cell_type": "code",
   "execution_count": 16,
   "metadata": {},
   "outputs": [
    {
     "data": {
      "text/plain": [
       "Text(0.5, 1.0, 'Média móvel das mortes por COVID-19 no Brasil')"
      ]
     },
     "execution_count": 16,
     "metadata": {},
     "output_type": "execute_result"
    },
    {
     "data": {
      "image/png": "[encoded data removed]",
      "text/plain": [
       "<Figure size 1008x576 with 2 Axes>"
      ]
     },
     "metadata": {
      "needs_background": "light"
     },
     "output_type": "display_data"
    }
   ],
   "source": [
    "area = plt.figure(figsize=(14,8))\n",
    "eixo = area.add_axes([0,0,1,1])\n",
    "eixo2 = area.add_axes([0.6,.75,.35,.2])\n",
    "\n",
    "\n",
    "eixo.set_title('Média móvel das mortes por COVID-19 no Brasil nos últimos 30 dias', fontsize=25)\n",
    "eixo.bar(medias_moveis_diarias['index'][-30:], medias_moveis_diarias['Brazil'][-30:], color=(1,0,0,.7))\n",
    "eixo.set_ylim((0,medias_moveis_diarias['Brazil'][-30:].max()+800))\n",
    "eixo.set_xticklabels(labels=medias_moveis_diarias['index'][-30:],rotation=60)\n",
    "\n",
    "eixo2.fill_between(medias_moveis_diarias['index'][:-30], 0, medias_moveis_diarias['Brazil'][:-30], color=(.5,0.5,0.5,1))\n",
    "eixo2.fill_between(medias_moveis_diarias['index'][-30:], medias_moveis_diarias['Brazil'][-30:], color=(1,0,0,.7))\n",
    "eixo2.get_xaxis().set_ticks([])\n",
    "eixo2.get_yaxis().set_ticks([])\n",
    "eixo2.set_title('Média móvel das mortes por COVID-19 no Brasil', fontsize=18)"
   ]
  },
  {
   "cell_type": "code",
   "execution_count": null,
   "metadata": {},
   "outputs": [],
   "source": []
  }
 ],
 "metadata": {
  "kernelspec": {
   "display_name": "Python 3",
   "language": "python",
   "name": "python3"
  },
  "language_info": {
   "codemirror_mode": {
    "name": "ipython",
    "version": 3
   },
   "file_extension": ".py",
   "mimetype": "text/x-python",
   "name": "python",
   "nbconvert_exporter": "python",
   "pygments_lexer": "ipython3",
   "version": "3.8.3"
  }
 },
 "nbformat": 4,
 "nbformat_minor": 4
}
